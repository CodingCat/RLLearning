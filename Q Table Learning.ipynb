{
 "cells": [
  {
   "cell_type": "code",
   "execution_count": 1,
   "metadata": {},
   "outputs": [],
   "source": [
    "import gym\n",
    "import numpy as np"
   ]
  },
  {
   "cell_type": "code",
   "execution_count": 2,
   "metadata": {},
   "outputs": [],
   "source": [
    "env = gym.make('FrozenLake-v0')"
   ]
  },
  {
   "cell_type": "code",
   "execution_count": 16,
   "metadata": {},
   "outputs": [],
   "source": [
    "#Initialize table with all zeros\n",
    "Q = np.zeros([env.observation_space.n, env.action_space.n])\n",
    "# Set learning parameters\n",
    "lr = .8\n",
    "discount = .95\n",
    "num_episodes = 2000\n",
    "#create lists to contain total rewards and steps per episode\n",
    "#jList = []\n",
    "reward_list = []\n",
    "for i in range(num_episodes):\n",
    "    #Reset environment and get first new observation\n",
    "    s = env.reset()\n",
    "    all_rewards = 0\n",
    "    reach_to_destination = False\n",
    "    j = 0\n",
    "    #The Q-Table learning algorithm\n",
    "    while j < 99:\n",
    "        j += 1\n",
    "        # Choose an action by greedily (with noise) picking from Q table\n",
    "        index_with_max_reward = np.argmax(Q[s, :] + np.random.randn(1, env.action_space.n) * (1. / (i + 1)))\n",
    "        # make the next step and return the next state, obtained reward and if have reached to the destination\n",
    "        s1, r, reach_to_destination, _ = env.step(index_with_max_reward)\n",
    "        # update Q-Table with new knowledge:\n",
    "        # Bellman equition: This says that the Q-value for a given state (s) and action (a) should represent\n",
    "        # the current reward (r) plus the maximum discounted (γ) future reward expected according to our own table\n",
    "        # for the next state (s’) we would end up in.\n",
    "        Q[s, index_with_max_reward] = Q[s, index_with_max_reward] + \\\n",
    "            lr * (r + discount * np.max(Q[s1,:]) - Q[s, index_with_max_reward])\n",
    "        all_rewards += r\n",
    "        s = s1\n",
    "        if reach_to_destination:\n",
    "            break\n",
    "    #jList.append(j)\n",
    "    reward_list.append(all_rewards)"
   ]
  },
  {
   "cell_type": "code",
   "execution_count": 17,
   "metadata": {},
   "outputs": [
    {
     "name": "stdout",
     "output_type": "stream",
     "text": [
      "Score over time: 0.6125\n",
      "Final Q-Table Values: \n"
     ]
    },
    {
     "data": {
      "text/plain": [
       "array([[1.91182403e-01, 1.83810536e-02, 1.58349527e-02, 1.83504336e-02],\n",
       "       [4.64868027e-04, 3.15341795e-03, 2.01349228e-03, 1.19250769e-01],\n",
       "       [3.67479088e-03, 4.19375748e-03, 2.25307229e-03, 1.13366048e-01],\n",
       "       [6.09677866e-03, 3.17284416e-04, 1.18275765e-03, 8.99130755e-02],\n",
       "       [2.52635265e-01, 5.16498899e-04, 2.72210549e-03, 5.55733633e-04],\n",
       "       [0.00000000e+00, 0.00000000e+00, 0.00000000e+00, 0.00000000e+00],\n",
       "       [1.00742194e-01, 4.18794880e-06, 8.20192995e-05, 2.16589718e-04],\n",
       "       [0.00000000e+00, 0.00000000e+00, 0.00000000e+00, 0.00000000e+00],\n",
       "       [4.95904182e-03, 1.42978120e-04, 8.23503535e-04, 5.11714068e-01],\n",
       "       [7.95248740e-04, 5.10031754e-01, 3.57785629e-04, 5.39506586e-03],\n",
       "       [7.44096373e-01, 0.00000000e+00, 2.02442066e-04, 6.00188261e-04],\n",
       "       [0.00000000e+00, 0.00000000e+00, 0.00000000e+00, 0.00000000e+00],\n",
       "       [0.00000000e+00, 0.00000000e+00, 0.00000000e+00, 0.00000000e+00],\n",
       "       [4.60690868e-03, 1.16800376e-03, 7.24796436e-01, 3.03050264e-03],\n",
       "       [0.00000000e+00, 9.53752367e-01, 0.00000000e+00, 0.00000000e+00],\n",
       "       [0.00000000e+00, 0.00000000e+00, 0.00000000e+00, 0.00000000e+00]])"
      ]
     },
     "execution_count": 17,
     "metadata": {},
     "output_type": "execute_result"
    }
   ],
   "source": [
    "print(\"Score over time: \" +  str(sum(reward_list)/num_episodes))\n",
    "print(\"Final Q-Table Values: \")\n",
    "Q"
   ]
  },
  {
   "cell_type": "code",
   "execution_count": null,
   "metadata": {},
   "outputs": [],
   "source": []
  }
 ],
 "metadata": {
  "kernelspec": {
   "display_name": "Python 3",
   "language": "python",
   "name": "python3"
  },
  "language_info": {
   "codemirror_mode": {
    "name": "ipython",
    "version": 3
   },
   "file_extension": ".py",
   "mimetype": "text/x-python",
   "name": "python",
   "nbconvert_exporter": "python",
   "pygments_lexer": "ipython3",
   "version": "3.6.5"
  }
 },
 "nbformat": 4,
 "nbformat_minor": 2
}
